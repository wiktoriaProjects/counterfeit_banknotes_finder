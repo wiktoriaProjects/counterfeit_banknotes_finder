
import numpy as np
import pandas as pd
import seaborn as sns
import matplotlib.pyplot as plt
from sklearn.preprocessing import StandardScaler
from sklearn.model_selection import train_test_split
from imblearn.under_sampling import RandomUnderSampler
from sklearn.model_selection import train_test_split
from sklearn.neighbors import KNeighborsClassifier
from sklearn.metrics import (accuracy_score, recall_score,
precision_score)
from sklearn.linear_model import LogisticRegression
from sklearn import metrics
from sklearn.tree import DecisionTreeClassifier, export_graphviz
from sklearn.metrics import accuracy_score, classification_report,recall_score, confusion_matrix
from sklearn.metrics import classification_report
import pydotplus
from IPython.display import Image
from sklearn.metrics import precision_score

columns = ["variance", "skewness", "curtosis", "entropy", "class"]
data = pd.read_csv('data_banknote_authentication.txt',header=None, names=columns)
data
